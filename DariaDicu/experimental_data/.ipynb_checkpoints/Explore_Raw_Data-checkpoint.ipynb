{
 "cells": [
  {
   "cell_type": "markdown",
   "metadata": {},
   "source": [
    "# Explore Raw qPCR Data\n",
    "\n",
    "Script to explore raw qPCR data extracted from SDSv2.4.1 software\n",
    "\n",
    "Author: Juvid Aryaman\n",
    "\n",
    "Date: 09/04/18"
   ]
  },
  {
   "cell_type": "code",
   "execution_count": 1,
   "metadata": {
    "collapsed": true
   },
   "outputs": [],
   "source": [
    "import pandas as pd"
   ]
  },
  {
   "cell_type": "code",
   "execution_count": 8,
   "metadata": {
    "collapsed": true
   },
   "outputs": [],
   "source": [
    "pd.read_csv?"
   ]
  },
  {
   "cell_type": "code",
   "execution_count": 9,
   "metadata": {
    "collapsed": false
   },
   "outputs": [],
   "source": [
    "d = pd.read_csv('10-3-17.txt',skiprows=1,index_col=False, delimiter='\\t') # data extracted from SDSv2.4.1 (Windows)"
   ]
  },
  {
   "cell_type": "code",
   "execution_count": 10,
   "metadata": {
    "collapsed": false
   },
   "outputs": [
    {
     "data": {
      "text/plain": [
       "135"
      ]
     },
     "execution_count": 10,
     "metadata": {},
     "output_type": "execute_result"
    }
   ],
   "source": [
    "len(d)"
   ]
  },
  {
   "cell_type": "code",
   "execution_count": 11,
   "metadata": {
    "collapsed": false
   },
   "outputs": [
    {
     "data": {
      "text/html": [
       "<div>\n",
       "<table border=\"1\" class=\"dataframe\">\n",
       "  <thead>\n",
       "    <tr style=\"text-align: right;\">\n",
       "      <th></th>\n",
       "      <th>Well Nb</th>\n",
       "      <th>Reporter</th>\n",
       "      <th>Rn</th>\n",
       "      <th>1</th>\n",
       "      <th>2</th>\n",
       "      <th>3</th>\n",
       "      <th>4</th>\n",
       "      <th>5</th>\n",
       "      <th>6</th>\n",
       "      <th>7</th>\n",
       "      <th>...</th>\n",
       "      <th>36.1</th>\n",
       "      <th>37.1</th>\n",
       "      <th>38.1</th>\n",
       "      <th>39.1</th>\n",
       "      <th>40.1</th>\n",
       "      <th>41.1</th>\n",
       "      <th>42.1</th>\n",
       "      <th>43.1</th>\n",
       "      <th>44.1</th>\n",
       "      <th>45.1</th>\n",
       "    </tr>\n",
       "  </thead>\n",
       "  <tbody>\n",
       "    <tr>\n",
       "      <th>0</th>\n",
       "      <td>1</td>\n",
       "      <td>BJmmMUP</td>\n",
       "      <td>NaN</td>\n",
       "      <td>112.40454</td>\n",
       "      <td>112.801740</td>\n",
       "      <td>114.18913</td>\n",
       "      <td>114.243866</td>\n",
       "      <td>114.132935</td>\n",
       "      <td>114.92890</td>\n",
       "      <td>115.920410</td>\n",
       "      <td>...</td>\n",
       "      <td>229.46020</td>\n",
       "      <td>230.367680</td>\n",
       "      <td>232.383670</td>\n",
       "      <td>231.88568</td>\n",
       "      <td>233.91666</td>\n",
       "      <td>233.56757</td>\n",
       "      <td>234.24258</td>\n",
       "      <td>235.38489</td>\n",
       "      <td>235.69635</td>\n",
       "      <td>237.54620</td>\n",
       "    </tr>\n",
       "    <tr>\n",
       "      <th>1</th>\n",
       "      <td>2</td>\n",
       "      <td>BJmmMUP</td>\n",
       "      <td>NaN</td>\n",
       "      <td>112.32478</td>\n",
       "      <td>113.121826</td>\n",
       "      <td>114.06854</td>\n",
       "      <td>114.058210</td>\n",
       "      <td>114.457380</td>\n",
       "      <td>115.20325</td>\n",
       "      <td>115.562965</td>\n",
       "      <td>...</td>\n",
       "      <td>231.69847</td>\n",
       "      <td>232.955430</td>\n",
       "      <td>233.430040</td>\n",
       "      <td>234.82362</td>\n",
       "      <td>235.83067</td>\n",
       "      <td>236.32652</td>\n",
       "      <td>237.30360</td>\n",
       "      <td>237.95287</td>\n",
       "      <td>238.15495</td>\n",
       "      <td>239.24830</td>\n",
       "    </tr>\n",
       "    <tr>\n",
       "      <th>2</th>\n",
       "      <td>3</td>\n",
       "      <td>BJmmMUP</td>\n",
       "      <td>NaN</td>\n",
       "      <td>116.14476</td>\n",
       "      <td>116.708600</td>\n",
       "      <td>117.62972</td>\n",
       "      <td>118.381260</td>\n",
       "      <td>118.339770</td>\n",
       "      <td>119.13867</td>\n",
       "      <td>119.804726</td>\n",
       "      <td>...</td>\n",
       "      <td>240.97644</td>\n",
       "      <td>242.385100</td>\n",
       "      <td>244.027310</td>\n",
       "      <td>243.94257</td>\n",
       "      <td>245.13070</td>\n",
       "      <td>245.69452</td>\n",
       "      <td>246.89075</td>\n",
       "      <td>247.45758</td>\n",
       "      <td>249.29565</td>\n",
       "      <td>249.29083</td>\n",
       "    </tr>\n",
       "    <tr>\n",
       "      <th>3</th>\n",
       "      <td>13</td>\n",
       "      <td>BJmmMUP</td>\n",
       "      <td>NaN</td>\n",
       "      <td>121.62935</td>\n",
       "      <td>121.333220</td>\n",
       "      <td>122.21579</td>\n",
       "      <td>122.483830</td>\n",
       "      <td>122.715680</td>\n",
       "      <td>123.19760</td>\n",
       "      <td>123.390150</td>\n",
       "      <td>...</td>\n",
       "      <td>72.30327</td>\n",
       "      <td>98.126710</td>\n",
       "      <td>122.708410</td>\n",
       "      <td>142.54895</td>\n",
       "      <td>156.82874</td>\n",
       "      <td>166.96940</td>\n",
       "      <td>173.86862</td>\n",
       "      <td>178.82143</td>\n",
       "      <td>181.34155</td>\n",
       "      <td>184.54863</td>\n",
       "    </tr>\n",
       "    <tr>\n",
       "      <th>4</th>\n",
       "      <td>14</td>\n",
       "      <td>BJmmMUP</td>\n",
       "      <td>NaN</td>\n",
       "      <td>131.28366</td>\n",
       "      <td>130.744480</td>\n",
       "      <td>132.16678</td>\n",
       "      <td>132.395230</td>\n",
       "      <td>132.329800</td>\n",
       "      <td>133.22170</td>\n",
       "      <td>133.629320</td>\n",
       "      <td>...</td>\n",
       "      <td>62.31851</td>\n",
       "      <td>89.178246</td>\n",
       "      <td>115.108406</td>\n",
       "      <td>136.09244</td>\n",
       "      <td>151.86047</td>\n",
       "      <td>161.82341</td>\n",
       "      <td>170.15282</td>\n",
       "      <td>176.60817</td>\n",
       "      <td>180.70409</td>\n",
       "      <td>186.21228</td>\n",
       "    </tr>\n",
       "  </tbody>\n",
       "</table>\n",
       "<p>5 rows × 94 columns</p>\n",
       "</div>"
      ],
      "text/plain": [
       "   Well Nb Reporter  Rn          1           2          3           4  \\\n",
       "0        1  BJmmMUP NaN  112.40454  112.801740  114.18913  114.243866   \n",
       "1        2  BJmmMUP NaN  112.32478  113.121826  114.06854  114.058210   \n",
       "2        3  BJmmMUP NaN  116.14476  116.708600  117.62972  118.381260   \n",
       "3       13  BJmmMUP NaN  121.62935  121.333220  122.21579  122.483830   \n",
       "4       14  BJmmMUP NaN  131.28366  130.744480  132.16678  132.395230   \n",
       "\n",
       "            5          6           7    ...           36.1        37.1  \\\n",
       "0  114.132935  114.92890  115.920410    ...      229.46020  230.367680   \n",
       "1  114.457380  115.20325  115.562965    ...      231.69847  232.955430   \n",
       "2  118.339770  119.13867  119.804726    ...      240.97644  242.385100   \n",
       "3  122.715680  123.19760  123.390150    ...       72.30327   98.126710   \n",
       "4  132.329800  133.22170  133.629320    ...       62.31851   89.178246   \n",
       "\n",
       "         38.1       39.1       40.1       41.1       42.1       43.1  \\\n",
       "0  232.383670  231.88568  233.91666  233.56757  234.24258  235.38489   \n",
       "1  233.430040  234.82362  235.83067  236.32652  237.30360  237.95287   \n",
       "2  244.027310  243.94257  245.13070  245.69452  246.89075  247.45758   \n",
       "3  122.708410  142.54895  156.82874  166.96940  173.86862  178.82143   \n",
       "4  115.108406  136.09244  151.86047  161.82341  170.15282  176.60817   \n",
       "\n",
       "        44.1       45.1  \n",
       "0  235.69635  237.54620  \n",
       "1  238.15495  239.24830  \n",
       "2  249.29565  249.29083  \n",
       "3  181.34155  184.54863  \n",
       "4  180.70409  186.21228  \n",
       "\n",
       "[5 rows x 94 columns]"
      ]
     },
     "execution_count": 11,
     "metadata": {},
     "output_type": "execute_result"
    }
   ],
   "source": [
    "d.head()"
   ]
  },
  {
   "cell_type": "code",
   "execution_count": 21,
   "metadata": {
    "collapsed": false
   },
   "outputs": [],
   "source": [
    "bkg_crr_cols = []\n",
    "for c in d.columns:\n",
    "    if '.' in c:\n",
    "        bkg_crr_cols.append(c)"
   ]
  },
  {
   "cell_type": "markdown",
   "metadata": {},
   "source": [
    "Columns with a `.1` have been background corrected"
   ]
  },
  {
   "cell_type": "markdown",
   "metadata": {},
   "source": [
    "Extract the background-corrected fluorescence intensities for a particular well"
   ]
  },
  {
   "cell_type": "code",
   "execution_count": 22,
   "metadata": {
    "collapsed": false
   },
   "outputs": [
    {
     "data": {
      "text/html": [
       "<div>\n",
       "<table border=\"1\" class=\"dataframe\">\n",
       "  <thead>\n",
       "    <tr style=\"text-align: right;\">\n",
       "      <th></th>\n",
       "      <th>1.1</th>\n",
       "      <th>2.1</th>\n",
       "      <th>3.1</th>\n",
       "      <th>4.1</th>\n",
       "      <th>5.1</th>\n",
       "      <th>6.1</th>\n",
       "      <th>7.1</th>\n",
       "      <th>8.1</th>\n",
       "      <th>9.1</th>\n",
       "      <th>10.1</th>\n",
       "      <th>...</th>\n",
       "      <th>36.1</th>\n",
       "      <th>37.1</th>\n",
       "      <th>38.1</th>\n",
       "      <th>39.1</th>\n",
       "      <th>40.1</th>\n",
       "      <th>41.1</th>\n",
       "      <th>42.1</th>\n",
       "      <th>43.1</th>\n",
       "      <th>44.1</th>\n",
       "      <th>45.1</th>\n",
       "    </tr>\n",
       "  </thead>\n",
       "  <tbody>\n",
       "    <tr>\n",
       "      <th>84</th>\n",
       "      <td>-2.984391</td>\n",
       "      <td>-3.500936</td>\n",
       "      <td>-3.040934</td>\n",
       "      <td>-3.164336</td>\n",
       "      <td>-2.762225</td>\n",
       "      <td>-2.777626</td>\n",
       "      <td>-2.375027</td>\n",
       "      <td>-2.458665</td>\n",
       "      <td>-1.858327</td>\n",
       "      <td>-1.587549</td>\n",
       "      <td>...</td>\n",
       "      <td>84.45778</td>\n",
       "      <td>113.788086</td>\n",
       "      <td>140.14575</td>\n",
       "      <td>159.53291</td>\n",
       "      <td>173.48251</td>\n",
       "      <td>182.1414</td>\n",
       "      <td>189.41588</td>\n",
       "      <td>195.12259</td>\n",
       "      <td>200.0211</td>\n",
       "      <td>205.79031</td>\n",
       "    </tr>\n",
       "  </tbody>\n",
       "</table>\n",
       "<p>1 rows × 45 columns</p>\n",
       "</div>"
      ],
      "text/plain": [
       "         1.1       2.1       3.1       4.1       5.1       6.1       7.1  \\\n",
       "84 -2.984391 -3.500936 -3.040934 -3.164336 -2.762225 -2.777626 -2.375027   \n",
       "\n",
       "         8.1       9.1      10.1    ...          36.1        37.1       38.1  \\\n",
       "84 -2.458665 -1.858327 -1.587549    ...      84.45778  113.788086  140.14575   \n",
       "\n",
       "         39.1       40.1      41.1       42.1       43.1      44.1       45.1  \n",
       "84  159.53291  173.48251  182.1414  189.41588  195.12259  200.0211  205.79031  \n",
       "\n",
       "[1 rows x 45 columns]"
      ]
     },
     "execution_count": 22,
     "metadata": {},
     "output_type": "execute_result"
    }
   ],
   "source": [
    "d[d['Well Nb']==253][bkg_crr_cols]"
   ]
  },
  {
   "cell_type": "markdown",
   "metadata": {},
   "source": [
    "Each column is a cycle of qPCR and the value corresponds to the fluorescence intensity"
   ]
  }
 ],
 "metadata": {
  "kernelspec": {
   "display_name": "Python 2",
   "language": "python",
   "name": "python2"
  },
  "language_info": {
   "codemirror_mode": {
    "name": "ipython",
    "version": 2
   },
   "file_extension": ".py",
   "mimetype": "text/x-python",
   "name": "python",
   "nbconvert_exporter": "python",
   "pygments_lexer": "ipython2",
   "version": "2.7.13"
  }
 },
 "nbformat": 4,
 "nbformat_minor": 2
}
