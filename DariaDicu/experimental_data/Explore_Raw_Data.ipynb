{
 "cells": [
  {
   "cell_type": "markdown",
   "metadata": {},
   "source": [
    "# Explore Raw qPCR Data\n",
    "\n",
    "Script to explore raw qPCR data extracted from SDSv2.4.1 software\n",
    "\n",
    "Author: Juvid Aryaman\n",
    "\n",
    "Date: 09/04/18"
   ]
  },
  {
   "cell_type": "code",
   "execution_count": 21,
   "metadata": {
    "collapsed": true
   },
   "outputs": [],
   "source": [
    "import pandas as pd\n",
    "import numpy as np"
   ]
  },
  {
   "cell_type": "code",
   "execution_count": 2,
   "metadata": {
    "collapsed": false
   },
   "outputs": [],
   "source": [
    "d = pd.read_csv('10-3-17.txt',skiprows=1,index_col=False, delimiter='\\t') # data extracted from SDSv2.4.1 (Windows)"
   ]
  },
  {
   "cell_type": "code",
   "execution_count": 3,
   "metadata": {
    "collapsed": false
   },
   "outputs": [
    {
     "data": {
      "text/plain": [
       "135"
      ]
     },
     "execution_count": 3,
     "metadata": {},
     "output_type": "execute_result"
    }
   ],
   "source": [
    "len(d)"
   ]
  },
  {
   "cell_type": "code",
   "execution_count": 4,
   "metadata": {
    "collapsed": false
   },
   "outputs": [
    {
     "data": {
      "text/html": [
       "<div>\n",
       "<table border=\"1\" class=\"dataframe\">\n",
       "  <thead>\n",
       "    <tr style=\"text-align: right;\">\n",
       "      <th></th>\n",
       "      <th>Well Nb</th>\n",
       "      <th>Reporter</th>\n",
       "      <th>Rn</th>\n",
       "      <th>1</th>\n",
       "      <th>2</th>\n",
       "      <th>3</th>\n",
       "      <th>4</th>\n",
       "      <th>5</th>\n",
       "      <th>6</th>\n",
       "      <th>7</th>\n",
       "      <th>...</th>\n",
       "      <th>36.1</th>\n",
       "      <th>37.1</th>\n",
       "      <th>38.1</th>\n",
       "      <th>39.1</th>\n",
       "      <th>40.1</th>\n",
       "      <th>41.1</th>\n",
       "      <th>42.1</th>\n",
       "      <th>43.1</th>\n",
       "      <th>44.1</th>\n",
       "      <th>45.1</th>\n",
       "    </tr>\n",
       "  </thead>\n",
       "  <tbody>\n",
       "    <tr>\n",
       "      <th>0</th>\n",
       "      <td>1</td>\n",
       "      <td>BJmmMUP</td>\n",
       "      <td>NaN</td>\n",
       "      <td>112.40454</td>\n",
       "      <td>112.801740</td>\n",
       "      <td>114.18913</td>\n",
       "      <td>114.243866</td>\n",
       "      <td>114.132935</td>\n",
       "      <td>114.92890</td>\n",
       "      <td>115.920410</td>\n",
       "      <td>...</td>\n",
       "      <td>229.46020</td>\n",
       "      <td>230.367680</td>\n",
       "      <td>232.383670</td>\n",
       "      <td>231.88568</td>\n",
       "      <td>233.91666</td>\n",
       "      <td>233.56757</td>\n",
       "      <td>234.24258</td>\n",
       "      <td>235.38489</td>\n",
       "      <td>235.69635</td>\n",
       "      <td>237.54620</td>\n",
       "    </tr>\n",
       "    <tr>\n",
       "      <th>1</th>\n",
       "      <td>2</td>\n",
       "      <td>BJmmMUP</td>\n",
       "      <td>NaN</td>\n",
       "      <td>112.32478</td>\n",
       "      <td>113.121826</td>\n",
       "      <td>114.06854</td>\n",
       "      <td>114.058210</td>\n",
       "      <td>114.457380</td>\n",
       "      <td>115.20325</td>\n",
       "      <td>115.562965</td>\n",
       "      <td>...</td>\n",
       "      <td>231.69847</td>\n",
       "      <td>232.955430</td>\n",
       "      <td>233.430040</td>\n",
       "      <td>234.82362</td>\n",
       "      <td>235.83067</td>\n",
       "      <td>236.32652</td>\n",
       "      <td>237.30360</td>\n",
       "      <td>237.95287</td>\n",
       "      <td>238.15495</td>\n",
       "      <td>239.24830</td>\n",
       "    </tr>\n",
       "    <tr>\n",
       "      <th>2</th>\n",
       "      <td>3</td>\n",
       "      <td>BJmmMUP</td>\n",
       "      <td>NaN</td>\n",
       "      <td>116.14476</td>\n",
       "      <td>116.708600</td>\n",
       "      <td>117.62972</td>\n",
       "      <td>118.381260</td>\n",
       "      <td>118.339770</td>\n",
       "      <td>119.13867</td>\n",
       "      <td>119.804726</td>\n",
       "      <td>...</td>\n",
       "      <td>240.97644</td>\n",
       "      <td>242.385100</td>\n",
       "      <td>244.027310</td>\n",
       "      <td>243.94257</td>\n",
       "      <td>245.13070</td>\n",
       "      <td>245.69452</td>\n",
       "      <td>246.89075</td>\n",
       "      <td>247.45758</td>\n",
       "      <td>249.29565</td>\n",
       "      <td>249.29083</td>\n",
       "    </tr>\n",
       "    <tr>\n",
       "      <th>3</th>\n",
       "      <td>13</td>\n",
       "      <td>BJmmMUP</td>\n",
       "      <td>NaN</td>\n",
       "      <td>121.62935</td>\n",
       "      <td>121.333220</td>\n",
       "      <td>122.21579</td>\n",
       "      <td>122.483830</td>\n",
       "      <td>122.715680</td>\n",
       "      <td>123.19760</td>\n",
       "      <td>123.390150</td>\n",
       "      <td>...</td>\n",
       "      <td>72.30327</td>\n",
       "      <td>98.126710</td>\n",
       "      <td>122.708410</td>\n",
       "      <td>142.54895</td>\n",
       "      <td>156.82874</td>\n",
       "      <td>166.96940</td>\n",
       "      <td>173.86862</td>\n",
       "      <td>178.82143</td>\n",
       "      <td>181.34155</td>\n",
       "      <td>184.54863</td>\n",
       "    </tr>\n",
       "    <tr>\n",
       "      <th>4</th>\n",
       "      <td>14</td>\n",
       "      <td>BJmmMUP</td>\n",
       "      <td>NaN</td>\n",
       "      <td>131.28366</td>\n",
       "      <td>130.744480</td>\n",
       "      <td>132.16678</td>\n",
       "      <td>132.395230</td>\n",
       "      <td>132.329800</td>\n",
       "      <td>133.22170</td>\n",
       "      <td>133.629320</td>\n",
       "      <td>...</td>\n",
       "      <td>62.31851</td>\n",
       "      <td>89.178246</td>\n",
       "      <td>115.108406</td>\n",
       "      <td>136.09244</td>\n",
       "      <td>151.86047</td>\n",
       "      <td>161.82341</td>\n",
       "      <td>170.15282</td>\n",
       "      <td>176.60817</td>\n",
       "      <td>180.70409</td>\n",
       "      <td>186.21228</td>\n",
       "    </tr>\n",
       "  </tbody>\n",
       "</table>\n",
       "<p>5 rows × 94 columns</p>\n",
       "</div>"
      ],
      "text/plain": [
       "   Well Nb Reporter  Rn          1           2          3           4  \\\n",
       "0        1  BJmmMUP NaN  112.40454  112.801740  114.18913  114.243866   \n",
       "1        2  BJmmMUP NaN  112.32478  113.121826  114.06854  114.058210   \n",
       "2        3  BJmmMUP NaN  116.14476  116.708600  117.62972  118.381260   \n",
       "3       13  BJmmMUP NaN  121.62935  121.333220  122.21579  122.483830   \n",
       "4       14  BJmmMUP NaN  131.28366  130.744480  132.16678  132.395230   \n",
       "\n",
       "            5          6           7    ...           36.1        37.1  \\\n",
       "0  114.132935  114.92890  115.920410    ...      229.46020  230.367680   \n",
       "1  114.457380  115.20325  115.562965    ...      231.69847  232.955430   \n",
       "2  118.339770  119.13867  119.804726    ...      240.97644  242.385100   \n",
       "3  122.715680  123.19760  123.390150    ...       72.30327   98.126710   \n",
       "4  132.329800  133.22170  133.629320    ...       62.31851   89.178246   \n",
       "\n",
       "         38.1       39.1       40.1       41.1       42.1       43.1  \\\n",
       "0  232.383670  231.88568  233.91666  233.56757  234.24258  235.38489   \n",
       "1  233.430040  234.82362  235.83067  236.32652  237.30360  237.95287   \n",
       "2  244.027310  243.94257  245.13070  245.69452  246.89075  247.45758   \n",
       "3  122.708410  142.54895  156.82874  166.96940  173.86862  178.82143   \n",
       "4  115.108406  136.09244  151.86047  161.82341  170.15282  176.60817   \n",
       "\n",
       "        44.1       45.1  \n",
       "0  235.69635  237.54620  \n",
       "1  238.15495  239.24830  \n",
       "2  249.29565  249.29083  \n",
       "3  181.34155  184.54863  \n",
       "4  180.70409  186.21228  \n",
       "\n",
       "[5 rows x 94 columns]"
      ]
     },
     "execution_count": 4,
     "metadata": {},
     "output_type": "execute_result"
    }
   ],
   "source": [
    "d.head()"
   ]
  },
  {
   "cell_type": "code",
   "execution_count": 5,
   "metadata": {
    "collapsed": false
   },
   "outputs": [],
   "source": [
    "bkg_crr_cols = []\n",
    "for c in d.columns:\n",
    "    if '.' in c:\n",
    "        bkg_crr_cols.append(c)"
   ]
  },
  {
   "cell_type": "markdown",
   "metadata": {},
   "source": [
    "Columns with a `.1` have been background corrected"
   ]
  },
  {
   "cell_type": "markdown",
   "metadata": {},
   "source": [
    "Extract the background-corrected fluorescence intensities for a particular well"
   ]
  },
  {
   "cell_type": "code",
   "execution_count": 6,
   "metadata": {
    "collapsed": false
   },
   "outputs": [
    {
     "data": {
      "text/html": [
       "<div>\n",
       "<table border=\"1\" class=\"dataframe\">\n",
       "  <thead>\n",
       "    <tr style=\"text-align: right;\">\n",
       "      <th></th>\n",
       "      <th>1.1</th>\n",
       "      <th>2.1</th>\n",
       "      <th>3.1</th>\n",
       "      <th>4.1</th>\n",
       "      <th>5.1</th>\n",
       "      <th>6.1</th>\n",
       "      <th>7.1</th>\n",
       "      <th>8.1</th>\n",
       "      <th>9.1</th>\n",
       "      <th>10.1</th>\n",
       "      <th>...</th>\n",
       "      <th>36.1</th>\n",
       "      <th>37.1</th>\n",
       "      <th>38.1</th>\n",
       "      <th>39.1</th>\n",
       "      <th>40.1</th>\n",
       "      <th>41.1</th>\n",
       "      <th>42.1</th>\n",
       "      <th>43.1</th>\n",
       "      <th>44.1</th>\n",
       "      <th>45.1</th>\n",
       "    </tr>\n",
       "  </thead>\n",
       "  <tbody>\n",
       "    <tr>\n",
       "      <th>84</th>\n",
       "      <td>-2.984391</td>\n",
       "      <td>-3.500936</td>\n",
       "      <td>-3.040934</td>\n",
       "      <td>-3.164336</td>\n",
       "      <td>-2.762225</td>\n",
       "      <td>-2.777626</td>\n",
       "      <td>-2.375027</td>\n",
       "      <td>-2.458665</td>\n",
       "      <td>-1.858327</td>\n",
       "      <td>-1.587549</td>\n",
       "      <td>...</td>\n",
       "      <td>84.45778</td>\n",
       "      <td>113.788086</td>\n",
       "      <td>140.14575</td>\n",
       "      <td>159.53291</td>\n",
       "      <td>173.48251</td>\n",
       "      <td>182.1414</td>\n",
       "      <td>189.41588</td>\n",
       "      <td>195.12259</td>\n",
       "      <td>200.0211</td>\n",
       "      <td>205.79031</td>\n",
       "    </tr>\n",
       "  </tbody>\n",
       "</table>\n",
       "<p>1 rows × 45 columns</p>\n",
       "</div>"
      ],
      "text/plain": [
       "         1.1       2.1       3.1       4.1       5.1       6.1       7.1  \\\n",
       "84 -2.984391 -3.500936 -3.040934 -3.164336 -2.762225 -2.777626 -2.375027   \n",
       "\n",
       "         8.1       9.1      10.1    ...          36.1        37.1       38.1  \\\n",
       "84 -2.458665 -1.858327 -1.587549    ...      84.45778  113.788086  140.14575   \n",
       "\n",
       "         39.1       40.1      41.1       42.1       43.1      44.1       45.1  \n",
       "84  159.53291  173.48251  182.1414  189.41588  195.12259  200.0211  205.79031  \n",
       "\n",
       "[1 rows x 45 columns]"
      ]
     },
     "execution_count": 6,
     "metadata": {},
     "output_type": "execute_result"
    }
   ],
   "source": [
    "d[d['Well Nb']==253][bkg_crr_cols]"
   ]
  },
  {
   "cell_type": "markdown",
   "metadata": {},
   "source": [
    "Each column is a cycle of qPCR and the value corresponds to the fluorescence intensity"
   ]
  },
  {
   "cell_type": "markdown",
   "metadata": {},
   "source": [
    "## Standards"
   ]
  },
  {
   "cell_type": "code",
   "execution_count": 7,
   "metadata": {
    "collapsed": true
   },
   "outputs": [],
   "source": [
    "d2 = pd.read_csv('2-3-17.txt',skiprows=1,index_col=False, delimiter='\\t')"
   ]
  },
  {
   "cell_type": "code",
   "execution_count": 8,
   "metadata": {
    "collapsed": false
   },
   "outputs": [
    {
     "data": {
      "text/plain": [
       "325"
      ]
     },
     "execution_count": 8,
     "metadata": {},
     "output_type": "execute_result"
    }
   ],
   "source": [
    "len(d2)"
   ]
  },
  {
   "cell_type": "code",
   "execution_count": 9,
   "metadata": {
    "collapsed": false
   },
   "outputs": [
    {
     "data": {
      "text/html": [
       "<div>\n",
       "<table border=\"1\" class=\"dataframe\">\n",
       "  <thead>\n",
       "    <tr style=\"text-align: right;\">\n",
       "      <th></th>\n",
       "      <th>Well Nb</th>\n",
       "      <th>Reporter</th>\n",
       "      <th>Rn</th>\n",
       "      <th>1</th>\n",
       "      <th>2</th>\n",
       "      <th>3</th>\n",
       "      <th>4</th>\n",
       "      <th>5</th>\n",
       "      <th>6</th>\n",
       "      <th>7</th>\n",
       "      <th>...</th>\n",
       "      <th>36.1</th>\n",
       "      <th>37.1</th>\n",
       "      <th>38.1</th>\n",
       "      <th>39.1</th>\n",
       "      <th>40.1</th>\n",
       "      <th>41.1</th>\n",
       "      <th>42.1</th>\n",
       "      <th>43.1</th>\n",
       "      <th>44.1</th>\n",
       "      <th>45.1</th>\n",
       "    </tr>\n",
       "  </thead>\n",
       "  <tbody>\n",
       "    <tr>\n",
       "      <th>0</th>\n",
       "      <td>4</td>\n",
       "      <td>BJ-CYB C57 vs BGHBST</td>\n",
       "      <td>NaN</td>\n",
       "      <td>164.93016</td>\n",
       "      <td>165.47037</td>\n",
       "      <td>166.28128</td>\n",
       "      <td>167.09586</td>\n",
       "      <td>167.62007</td>\n",
       "      <td>168.57388</td>\n",
       "      <td>169.01128</td>\n",
       "      <td>...</td>\n",
       "      <td>207.36713</td>\n",
       "      <td>212.22963</td>\n",
       "      <td>215.86534</td>\n",
       "      <td>218.02013</td>\n",
       "      <td>219.13194</td>\n",
       "      <td>220.00542</td>\n",
       "      <td>220.10802</td>\n",
       "      <td>221.30870</td>\n",
       "      <td>220.51686</td>\n",
       "      <td>219.12270</td>\n",
       "    </tr>\n",
       "    <tr>\n",
       "      <th>1</th>\n",
       "      <td>5</td>\n",
       "      <td>BJ-CYB C57 vs BGHBST</td>\n",
       "      <td>NaN</td>\n",
       "      <td>170.90295</td>\n",
       "      <td>171.10635</td>\n",
       "      <td>172.08871</td>\n",
       "      <td>173.19324</td>\n",
       "      <td>174.42584</td>\n",
       "      <td>175.13208</td>\n",
       "      <td>176.05826</td>\n",
       "      <td>...</td>\n",
       "      <td>212.63933</td>\n",
       "      <td>218.33392</td>\n",
       "      <td>223.39111</td>\n",
       "      <td>225.26724</td>\n",
       "      <td>226.70125</td>\n",
       "      <td>227.93593</td>\n",
       "      <td>227.53859</td>\n",
       "      <td>228.92640</td>\n",
       "      <td>230.10910</td>\n",
       "      <td>227.13321</td>\n",
       "    </tr>\n",
       "    <tr>\n",
       "      <th>2</th>\n",
       "      <td>6</td>\n",
       "      <td>BJ-CYB C57 vs BGHBST</td>\n",
       "      <td>NaN</td>\n",
       "      <td>168.07901</td>\n",
       "      <td>168.87598</td>\n",
       "      <td>169.41101</td>\n",
       "      <td>170.38098</td>\n",
       "      <td>171.56290</td>\n",
       "      <td>172.24478</td>\n",
       "      <td>173.19957</td>\n",
       "      <td>...</td>\n",
       "      <td>212.82428</td>\n",
       "      <td>219.14010</td>\n",
       "      <td>222.53200</td>\n",
       "      <td>224.79767</td>\n",
       "      <td>226.73643</td>\n",
       "      <td>227.24603</td>\n",
       "      <td>226.47572</td>\n",
       "      <td>228.23068</td>\n",
       "      <td>228.31120</td>\n",
       "      <td>226.84561</td>\n",
       "    </tr>\n",
       "    <tr>\n",
       "      <th>3</th>\n",
       "      <td>10</td>\n",
       "      <td>BJ-CYB C57 vs BGHBST</td>\n",
       "      <td>NaN</td>\n",
       "      <td>156.02202</td>\n",
       "      <td>157.19952</td>\n",
       "      <td>158.70087</td>\n",
       "      <td>159.71198</td>\n",
       "      <td>160.72733</td>\n",
       "      <td>161.29160</td>\n",
       "      <td>162.21262</td>\n",
       "      <td>...</td>\n",
       "      <td>215.85010</td>\n",
       "      <td>217.11096</td>\n",
       "      <td>217.79274</td>\n",
       "      <td>218.40620</td>\n",
       "      <td>218.89021</td>\n",
       "      <td>218.58160</td>\n",
       "      <td>219.63922</td>\n",
       "      <td>219.57635</td>\n",
       "      <td>220.71070</td>\n",
       "      <td>219.62819</td>\n",
       "    </tr>\n",
       "    <tr>\n",
       "      <th>4</th>\n",
       "      <td>11</td>\n",
       "      <td>BJ-CYB C57 vs BGHBST</td>\n",
       "      <td>NaN</td>\n",
       "      <td>165.05008</td>\n",
       "      <td>165.85837</td>\n",
       "      <td>166.85050</td>\n",
       "      <td>167.61887</td>\n",
       "      <td>168.40940</td>\n",
       "      <td>169.34706</td>\n",
       "      <td>169.62027</td>\n",
       "      <td>...</td>\n",
       "      <td>226.55970</td>\n",
       "      <td>227.88205</td>\n",
       "      <td>228.24231</td>\n",
       "      <td>228.69300</td>\n",
       "      <td>229.21631</td>\n",
       "      <td>229.29137</td>\n",
       "      <td>229.77153</td>\n",
       "      <td>230.17888</td>\n",
       "      <td>230.72441</td>\n",
       "      <td>229.39189</td>\n",
       "    </tr>\n",
       "  </tbody>\n",
       "</table>\n",
       "<p>5 rows × 94 columns</p>\n",
       "</div>"
      ],
      "text/plain": [
       "   Well Nb              Reporter  Rn          1          2          3  \\\n",
       "0        4  BJ-CYB C57 vs BGHBST NaN  164.93016  165.47037  166.28128   \n",
       "1        5  BJ-CYB C57 vs BGHBST NaN  170.90295  171.10635  172.08871   \n",
       "2        6  BJ-CYB C57 vs BGHBST NaN  168.07901  168.87598  169.41101   \n",
       "3       10  BJ-CYB C57 vs BGHBST NaN  156.02202  157.19952  158.70087   \n",
       "4       11  BJ-CYB C57 vs BGHBST NaN  165.05008  165.85837  166.85050   \n",
       "\n",
       "           4          5          6          7    ...           36.1  \\\n",
       "0  167.09586  167.62007  168.57388  169.01128    ...      207.36713   \n",
       "1  173.19324  174.42584  175.13208  176.05826    ...      212.63933   \n",
       "2  170.38098  171.56290  172.24478  173.19957    ...      212.82428   \n",
       "3  159.71198  160.72733  161.29160  162.21262    ...      215.85010   \n",
       "4  167.61887  168.40940  169.34706  169.62027    ...      226.55970   \n",
       "\n",
       "        37.1       38.1       39.1       40.1       41.1       42.1  \\\n",
       "0  212.22963  215.86534  218.02013  219.13194  220.00542  220.10802   \n",
       "1  218.33392  223.39111  225.26724  226.70125  227.93593  227.53859   \n",
       "2  219.14010  222.53200  224.79767  226.73643  227.24603  226.47572   \n",
       "3  217.11096  217.79274  218.40620  218.89021  218.58160  219.63922   \n",
       "4  227.88205  228.24231  228.69300  229.21631  229.29137  229.77153   \n",
       "\n",
       "        43.1       44.1       45.1  \n",
       "0  221.30870  220.51686  219.12270  \n",
       "1  228.92640  230.10910  227.13321  \n",
       "2  228.23068  228.31120  226.84561  \n",
       "3  219.57635  220.71070  219.62819  \n",
       "4  230.17888  230.72441  229.39189  \n",
       "\n",
       "[5 rows x 94 columns]"
      ]
     },
     "execution_count": 9,
     "metadata": {},
     "output_type": "execute_result"
    }
   ],
   "source": [
    "d2.head()"
   ]
  },
  {
   "cell_type": "code",
   "execution_count": 12,
   "metadata": {
    "collapsed": false
   },
   "outputs": [
    {
     "data": {
      "text/plain": [
       "Index([u'Well Nb', u'Reporter', u'Rn', u'1', u'2', u'3', u'4', u'5', u'6',\n",
       "       u'7', u'8', u'9', u'10', u'11', u'12', u'13', u'14', u'15', u'16',\n",
       "       u'17', u'18', u'19', u'20', u'21', u'22', u'23', u'24', u'25', u'26',\n",
       "       u'27', u'28', u'29', u'30', u'31', u'32', u'33', u'34', u'35', u'36',\n",
       "       u'37', u'38', u'39', u'40', u'41', u'42', u'43', u'44', u'45',\n",
       "       u'Delta Rn', u'1.1', u'2.1', u'3.1', u'4.1', u'5.1', u'6.1', u'7.1',\n",
       "       u'8.1', u'9.1', u'10.1', u'11.1', u'12.1', u'13.1', u'14.1', u'15.1',\n",
       "       u'16.1', u'17.1', u'18.1', u'19.1', u'20.1', u'21.1', u'22.1', u'23.1',\n",
       "       u'24.1', u'25.1', u'26.1', u'27.1', u'28.1', u'29.1', u'30.1', u'31.1',\n",
       "       u'32.1', u'33.1', u'34.1', u'35.1', u'36.1', u'37.1', u'38.1', u'39.1',\n",
       "       u'40.1', u'41.1', u'42.1', u'43.1', u'44.1', u'45.1'],\n",
       "      dtype='object')"
      ]
     },
     "execution_count": 12,
     "metadata": {},
     "output_type": "execute_result"
    }
   ],
   "source": [
    "d2.columns"
   ]
  },
  {
   "cell_type": "code",
   "execution_count": 16,
   "metadata": {
    "collapsed": false
   },
   "outputs": [
    {
     "data": {
      "text/html": [
       "<div>\n",
       "<table border=\"1\" class=\"dataframe\">\n",
       "  <thead>\n",
       "    <tr style=\"text-align: right;\">\n",
       "      <th></th>\n",
       "      <th>Well Nb</th>\n",
       "      <th>Reporter</th>\n",
       "      <th>Rn</th>\n",
       "      <th>1</th>\n",
       "      <th>2</th>\n",
       "      <th>3</th>\n",
       "      <th>4</th>\n",
       "      <th>5</th>\n",
       "      <th>6</th>\n",
       "      <th>7</th>\n",
       "      <th>...</th>\n",
       "      <th>36.1</th>\n",
       "      <th>37.1</th>\n",
       "      <th>38.1</th>\n",
       "      <th>39.1</th>\n",
       "      <th>40.1</th>\n",
       "      <th>41.1</th>\n",
       "      <th>42.1</th>\n",
       "      <th>43.1</th>\n",
       "      <th>44.1</th>\n",
       "      <th>45.1</th>\n",
       "    </tr>\n",
       "  </thead>\n",
       "  <tbody>\n",
       "    <tr>\n",
       "      <th>156</th>\n",
       "      <td>7</td>\n",
       "      <td>BJCOII</td>\n",
       "      <td>NaN</td>\n",
       "      <td>100.29143</td>\n",
       "      <td>101.014206</td>\n",
       "      <td>101.60947</td>\n",
       "      <td>101.67997</td>\n",
       "      <td>102.43781</td>\n",
       "      <td>102.9595</td>\n",
       "      <td>103.26898</td>\n",
       "      <td>...</td>\n",
       "      <td>199.38976</td>\n",
       "      <td>199.11371</td>\n",
       "      <td>199.88177</td>\n",
       "      <td>199.20456</td>\n",
       "      <td>199.06982</td>\n",
       "      <td>198.40222</td>\n",
       "      <td>198.31964</td>\n",
       "      <td>198.47345</td>\n",
       "      <td>198.91931</td>\n",
       "      <td>198.17612</td>\n",
       "    </tr>\n",
       "  </tbody>\n",
       "</table>\n",
       "<p>1 rows × 94 columns</p>\n",
       "</div>"
      ],
      "text/plain": [
       "     Well Nb Reporter  Rn          1           2          3          4  \\\n",
       "156        7   BJCOII NaN  100.29143  101.014206  101.60947  101.67997   \n",
       "\n",
       "             5         6          7    ...           36.1       37.1  \\\n",
       "156  102.43781  102.9595  103.26898    ...      199.38976  199.11371   \n",
       "\n",
       "          38.1       39.1       40.1       41.1       42.1       43.1  \\\n",
       "156  199.88177  199.20456  199.06982  198.40222  198.31964  198.47345   \n",
       "\n",
       "          44.1       45.1  \n",
       "156  198.91931  198.17612  \n",
       "\n",
       "[1 rows x 94 columns]"
      ]
     },
     "execution_count": 16,
     "metadata": {},
     "output_type": "execute_result"
    }
   ],
   "source": [
    "d2[d2['Well Nb']==7]"
   ]
  },
  {
   "cell_type": "code",
   "execution_count": 24,
   "metadata": {
    "collapsed": false
   },
   "outputs": [
    {
     "name": "stdout",
     "output_type": "stream",
     "text": [
      "[7 8 9]\n",
      "[31 32 33]\n",
      "[55 56 57]\n",
      "[79 80 81]\n",
      "[103 104 105]\n",
      "[127 128 129]\n",
      "[151 152 153]\n",
      "[175 176 177]\n"
     ]
    }
   ],
   "source": [
    "for i in range(8):\n",
    "    well_init = 7 + i*24\n",
    "    well_fin = well_init + 3\n",
    "    \n",
    "    #x = d2[d2['Well Nb']==well_init]\n",
    "    print(np.arange(well_init,well_fin))\n",
    "    "
   ]
  },
  {
   "cell_type": "code",
   "execution_count": 19,
   "metadata": {
    "collapsed": false
   },
   "outputs": [
    {
     "data": {
      "text/html": [
       "<div>\n",
       "<table border=\"1\" class=\"dataframe\">\n",
       "  <thead>\n",
       "    <tr style=\"text-align: right;\">\n",
       "      <th></th>\n",
       "      <th>Well Nb</th>\n",
       "      <th>Reporter</th>\n",
       "      <th>Rn</th>\n",
       "      <th>1</th>\n",
       "      <th>2</th>\n",
       "      <th>3</th>\n",
       "      <th>4</th>\n",
       "      <th>5</th>\n",
       "      <th>6</th>\n",
       "      <th>7</th>\n",
       "      <th>...</th>\n",
       "      <th>36.1</th>\n",
       "      <th>37.1</th>\n",
       "      <th>38.1</th>\n",
       "      <th>39.1</th>\n",
       "      <th>40.1</th>\n",
       "      <th>41.1</th>\n",
       "      <th>42.1</th>\n",
       "      <th>43.1</th>\n",
       "      <th>44.1</th>\n",
       "      <th>45.1</th>\n",
       "    </tr>\n",
       "  </thead>\n",
       "  <tbody>\n",
       "    <tr>\n",
       "      <th>156</th>\n",
       "      <td>7</td>\n",
       "      <td>BJCOII</td>\n",
       "      <td>NaN</td>\n",
       "      <td>100.29143</td>\n",
       "      <td>101.014206</td>\n",
       "      <td>101.60947</td>\n",
       "      <td>101.67997</td>\n",
       "      <td>102.43781</td>\n",
       "      <td>102.9595</td>\n",
       "      <td>103.26898</td>\n",
       "      <td>...</td>\n",
       "      <td>199.38976</td>\n",
       "      <td>199.11371</td>\n",
       "      <td>199.88177</td>\n",
       "      <td>199.20456</td>\n",
       "      <td>199.06982</td>\n",
       "      <td>198.40222</td>\n",
       "      <td>198.31964</td>\n",
       "      <td>198.47345</td>\n",
       "      <td>198.91931</td>\n",
       "      <td>198.17612</td>\n",
       "    </tr>\n",
       "  </tbody>\n",
       "</table>\n",
       "<p>1 rows × 94 columns</p>\n",
       "</div>"
      ],
      "text/plain": [
       "     Well Nb Reporter  Rn          1           2          3          4  \\\n",
       "156        7   BJCOII NaN  100.29143  101.014206  101.60947  101.67997   \n",
       "\n",
       "             5         6          7    ...           36.1       37.1  \\\n",
       "156  102.43781  102.9595  103.26898    ...      199.38976  199.11371   \n",
       "\n",
       "          38.1       39.1       40.1       41.1       42.1       43.1  \\\n",
       "156  199.88177  199.20456  199.06982  198.40222  198.31964  198.47345   \n",
       "\n",
       "          44.1       45.1  \n",
       "156  198.91931  198.17612  \n",
       "\n",
       "[1 rows x 94 columns]"
      ]
     },
     "execution_count": 19,
     "metadata": {},
     "output_type": "execute_result"
    }
   ],
   "source": [
    "x"
   ]
  },
  {
   "cell_type": "code",
   "execution_count": 25,
   "metadata": {
    "collapsed": false
   },
   "outputs": [
    {
     "data": {
      "text/html": [
       "<div>\n",
       "<table border=\"1\" class=\"dataframe\">\n",
       "  <thead>\n",
       "    <tr style=\"text-align: right;\">\n",
       "      <th></th>\n",
       "      <th>Well Nb</th>\n",
       "      <th>Reporter</th>\n",
       "      <th>Rn</th>\n",
       "      <th>1</th>\n",
       "      <th>2</th>\n",
       "      <th>3</th>\n",
       "      <th>4</th>\n",
       "      <th>5</th>\n",
       "      <th>6</th>\n",
       "      <th>7</th>\n",
       "      <th>...</th>\n",
       "      <th>36.1</th>\n",
       "      <th>37.1</th>\n",
       "      <th>38.1</th>\n",
       "      <th>39.1</th>\n",
       "      <th>40.1</th>\n",
       "      <th>41.1</th>\n",
       "      <th>42.1</th>\n",
       "      <th>43.1</th>\n",
       "      <th>44.1</th>\n",
       "      <th>45.1</th>\n",
       "    </tr>\n",
       "  </thead>\n",
       "  <tbody>\n",
       "    <tr>\n",
       "      <th>116</th>\n",
       "      <td>270</td>\n",
       "      <td>BJ-CYB C57 vs BGHBST</td>\n",
       "      <td>NaN</td>\n",
       "      <td>195.70865</td>\n",
       "      <td>197.13582</td>\n",
       "      <td>198.03128</td>\n",
       "      <td>198.84732</td>\n",
       "      <td>199.75027</td>\n",
       "      <td>200.61972</td>\n",
       "      <td>200.99503</td>\n",
       "      <td>...</td>\n",
       "      <td>165.5819</td>\n",
       "      <td>195.27275</td>\n",
       "      <td>216.04614</td>\n",
       "      <td>232.00452</td>\n",
       "      <td>242.51723</td>\n",
       "      <td>248.38658</td>\n",
       "      <td>252.72792</td>\n",
       "      <td>254.70319</td>\n",
       "      <td>255.22415</td>\n",
       "      <td>255.58592</td>\n",
       "    </tr>\n",
       "  </tbody>\n",
       "</table>\n",
       "<p>1 rows × 94 columns</p>\n",
       "</div>"
      ],
      "text/plain": [
       "     Well Nb              Reporter  Rn          1          2          3  \\\n",
       "116      270  BJ-CYB C57 vs BGHBST NaN  195.70865  197.13582  198.03128   \n",
       "\n",
       "             4          5          6          7    ...          36.1  \\\n",
       "116  198.84732  199.75027  200.61972  200.99503    ...      165.5819   \n",
       "\n",
       "          37.1       38.1       39.1       40.1       41.1       42.1  \\\n",
       "116  195.27275  216.04614  232.00452  242.51723  248.38658  252.72792   \n",
       "\n",
       "          43.1       44.1       45.1  \n",
       "116  254.70319  255.22415  255.58592  \n",
       "\n",
       "[1 rows x 94 columns]"
      ]
     },
     "execution_count": 25,
     "metadata": {},
     "output_type": "execute_result"
    }
   ],
   "source": [
    "d2[d2['Well Nb']==270]"
   ]
  },
  {
   "cell_type": "code",
   "execution_count": null,
   "metadata": {
    "collapsed": true
   },
   "outputs": [],
   "source": []
  }
 ],
 "metadata": {
  "kernelspec": {
   "display_name": "Python 2",
   "language": "python",
   "name": "python2"
  },
  "language_info": {
   "codemirror_mode": {
    "name": "ipython",
    "version": 2
   },
   "file_extension": ".py",
   "mimetype": "text/x-python",
   "name": "python",
   "nbconvert_exporter": "python",
   "pygments_lexer": "ipython2",
   "version": "2.7.13"
  }
 },
 "nbformat": 4,
 "nbformat_minor": 2
}
